{
 "cells": [
  {
   "cell_type": "code",
   "execution_count": 1,
   "metadata": {},
   "outputs": [
    {
     "name": "stdout",
     "output_type": "stream",
     "text": [
      "/Users/mdjavedulferdous\n"
     ]
    }
   ],
   "source": [
    "cd"
   ]
  },
  {
   "cell_type": "code",
   "execution_count": 2,
   "metadata": {},
   "outputs": [
    {
     "name": "stdout",
     "output_type": "stream",
     "text": [
      "/Users/mdjavedulferdous/Documents/Dataset/New Dataset\n"
     ]
    }
   ],
   "source": [
    "cd \"Documents/Dataset/New Dataset\""
   ]
  },
  {
   "cell_type": "code",
   "execution_count": 15,
   "metadata": {},
   "outputs": [],
   "source": [
    "import csv\n",
    "import numpy as np\n",
    "import pandas as pd\n",
    "from numpy import mean\n",
    "from numpy import std\n",
    "from sklearn import svm\n",
    "from sklearn import tree\n",
    "from sklearn.svm import SVC\n",
    "from sklearn import metrics\n",
    "from sklearn.neighbors import KNeighborsClassifier\n",
    "from sklearn.ensemble import RandomForestClassifier\n",
    "from sklearn.linear_model import LinearRegression, LogisticRegression\n",
    "from sklearn.model_selection import KFold,cross_val_predict\n",
    "from sklearn.metrics import precision_score, average_precision_score,confusion_matrix, recall_score, accuracy_score, classification_report, make_scorer\n",
    "from sklearn.datasets import make_classification\n",
    "from sklearn.model_selection import KFold\n",
    "from sklearn.model_selection import cross_val_score\n",
    "from sklearn.tree import DecisionTreeClassifier\n",
    "from sklearn.neural_network import MLPClassifier\n",
    "from sklearn import model_selection\n",
    "from sklearn.tree import DecisionTreeClassifier\n",
    "from sklearn.neighbors import KNeighborsClassifier\n",
    "from matplotlib import pyplot as PLT\n"
   ]
  },
  {
   "cell_type": "code",
   "execution_count": 4,
   "metadata": {},
   "outputs": [],
   "source": [
    "#csv_df = pd.read_csv(\"sort_file_corrected_v4.csv\")\n",
    "#csv_df = pd.read_csv(\"test_div_2_2.csv\")\n",
    "csv_df = pd.read_csv(\"pageList_version_three.csv\")\n"
   ]
  },
  {
   "cell_type": "code",
   "execution_count": 5,
   "metadata": {},
   "outputs": [
    {
     "name": "stdout",
     "output_type": "stream",
     "text": [
      "<class 'pandas.core.frame.DataFrame'>\n",
      "RangeIndex: 149146 entries, 0 to 149145\n",
      "Data columns (total 7 columns):\n",
      " #   Column          Non-Null Count   Dtype \n",
      "---  ------          --------------   ----- \n",
      " 0   NumOfButton     149146 non-null  int64 \n",
      " 1   NumOfLinks      149146 non-null  int64 \n",
      " 2   commonURL       149146 non-null  int64 \n",
      " 3   is_page         149146 non-null  int64 \n",
      " 4   NumberOfValues  149146 non-null  int64 \n",
      " 5   pageClass       149146 non-null  int64 \n",
      " 6   name_url        149146 non-null  object\n",
      "dtypes: int64(6), object(1)\n",
      "memory usage: 8.0+ MB\n"
     ]
    }
   ],
   "source": [
    "csv_df.info()"
   ]
  },
  {
   "cell_type": "code",
   "execution_count": 6,
   "metadata": {},
   "outputs": [],
   "source": [
    "X = csv_df[['NumOfButton','NumOfLinks','commonURL','NumberOfValues','is_page']]\n",
    "y = csv_df[['pageClass']]\n"
   ]
  },
  {
   "cell_type": "code",
   "execution_count": 7,
   "metadata": {},
   "outputs": [],
   "source": [
    "filtered_one = csv_df[csv_df['pageClass'] != 0] \n",
    "filtered_zero = csv_df[csv_df['pageClass'] == 0] \n"
   ]
  },
  {
   "cell_type": "code",
   "execution_count": 8,
   "metadata": {},
   "outputs": [
    {
     "name": "stdout",
     "output_type": "stream",
     "text": [
      "NumOfButton       148937\n",
      "NumOfLinks        148937\n",
      "commonURL         148937\n",
      "is_page           148937\n",
      "NumberOfValues    148937\n",
      "pageClass         148937\n",
      "name_url          148937\n",
      "dtype: int64\n",
      "NumOfButton       209\n",
      "NumOfLinks        209\n",
      "commonURL         209\n",
      "is_page           209\n",
      "NumberOfValues    209\n",
      "pageClass         209\n",
      "name_url          209\n",
      "dtype: int64\n"
     ]
    }
   ],
   "source": [
    "print(filtered_zero.count())\n",
    "print(filtered_one.count())"
   ]
  },
  {
   "cell_type": "code",
   "execution_count": 9,
   "metadata": {},
   "outputs": [],
   "source": [
    "f_o = filtered_zero.sample(n=209,replace=False)\n",
    "z = pd.concat([filtered_one, f_o], axis=0)\n",
    "x_2 = z[['NumOfButton','NumOfLinks','commonURL','NumberOfValues','is_page']]\n",
    "y_2 = z[[\"pageClass\"]]"
   ]
  },
  {
   "cell_type": "code",
   "execution_count": 10,
   "metadata": {},
   "outputs": [
    {
     "name": "stdout",
     "output_type": "stream",
     "text": [
      "NumOfButton       418\n",
      "NumOfLinks        418\n",
      "commonURL         418\n",
      "NumberOfValues    418\n",
      "is_page           418\n",
      "dtype: int64\n",
      "pageClass    418\n",
      "dtype: int64\n"
     ]
    }
   ],
   "source": [
    "print(x_2.count())\n",
    "print(y_2.count())"
   ]
  },
  {
   "cell_type": "code",
   "execution_count": 12,
   "metadata": {
    "scrolled": false
   },
   "outputs": [
    {
     "name": "stdout",
     "output_type": "stream",
     "text": [
      "========================================================\n",
      "LogisticRegression\n",
      "========================================================\n",
      "--------------------------------------------------------\n",
      "              precision    recall  f1-score   support\n",
      "\n",
      "     Class 0       0.82      1.00      0.90        75\n",
      "     Class 1       1.00      0.75      0.86        65\n",
      "\n",
      "    accuracy                           0.89       140\n",
      "   macro avg       0.91      0.88      0.88       140\n",
      "weighted avg       0.91      0.89      0.88       140\n",
      "\n",
      "Outcome values : \n",
      "tp, fn, fp, tn\n",
      " 75 0 16 49\n",
      "--------------------------------------------------------\n",
      "              precision    recall  f1-score   support\n",
      "\n",
      "     Class 0       0.81      1.00      0.89        68\n",
      "     Class 1       1.00      0.77      0.87        71\n",
      "\n",
      "    accuracy                           0.88       139\n",
      "   macro avg       0.90      0.89      0.88       139\n",
      "weighted avg       0.91      0.88      0.88       139\n",
      "\n",
      "Outcome values : \n",
      "tp, fn, fp, tn\n",
      " 68 0 16 55\n",
      "--------------------------------------------------------\n",
      "              precision    recall  f1-score   support\n",
      "\n",
      "     Class 0       0.87      1.00      0.93        66\n",
      "     Class 1       1.00      0.86      0.93        73\n",
      "\n",
      "    accuracy                           0.93       139\n",
      "   macro avg       0.93      0.93      0.93       139\n",
      "weighted avg       0.94      0.93      0.93       139\n",
      "\n",
      "Outcome values : \n",
      "tp, fn, fp, tn\n",
      " 66 0 10 63\n",
      "Average accuracy:  89.955\n",
      "========================================================\n",
      "SVM with RBF kernel\n",
      "========================================================\n",
      "--------------------------------------------------------\n",
      "              precision    recall  f1-score   support\n",
      "\n",
      "     Class 0       0.70      1.00      0.82        75\n",
      "     Class 1       1.00      0.51      0.67        65\n",
      "\n",
      "    accuracy                           0.77       140\n",
      "   macro avg       0.85      0.75      0.75       140\n",
      "weighted avg       0.84      0.77      0.75       140\n",
      "\n",
      "Outcome values : \n",
      "tp, fn, fp, tn\n",
      " 75 0 32 33\n",
      "--------------------------------------------------------\n",
      "              precision    recall  f1-score   support\n",
      "\n",
      "     Class 0       0.65      1.00      0.79        68\n",
      "     Class 1       1.00      0.49      0.66        71\n",
      "\n",
      "    accuracy                           0.74       139\n",
      "   macro avg       0.83      0.75      0.73       139\n",
      "weighted avg       0.83      0.74      0.72       139\n",
      "\n",
      "Outcome values : \n",
      "tp, fn, fp, tn\n",
      " 68 0 36 35\n",
      "--------------------------------------------------------\n",
      "              precision    recall  f1-score   support\n",
      "\n",
      "     Class 0       0.65      1.00      0.79        66\n",
      "     Class 1       1.00      0.51      0.67        73\n",
      "\n",
      "    accuracy                           0.74       139\n",
      "   macro avg       0.82      0.75      0.73       139\n",
      "weighted avg       0.83      0.74      0.73       139\n",
      "\n",
      "Outcome values : \n",
      "tp, fn, fp, tn\n",
      " 66 0 36 37\n",
      "Average accuracy:  75.115\n",
      "========================================================\n"
     ]
    },
    {
     "name": "stderr",
     "output_type": "stream",
     "text": [
      "/Users/mdjavedulferdous/opt/anaconda3/lib/python3.8/site-packages/sklearn/utils/validation.py:72: DataConversionWarning: A column-vector y was passed when a 1d array was expected. Please change the shape of y to (n_samples, ), for example using ravel().\n",
      "  return f(**kwargs)\n",
      "/Users/mdjavedulferdous/opt/anaconda3/lib/python3.8/site-packages/sklearn/utils/validation.py:72: DataConversionWarning: A column-vector y was passed when a 1d array was expected. Please change the shape of y to (n_samples, ), for example using ravel().\n",
      "  return f(**kwargs)\n",
      "/Users/mdjavedulferdous/opt/anaconda3/lib/python3.8/site-packages/sklearn/utils/validation.py:72: DataConversionWarning: A column-vector y was passed when a 1d array was expected. Please change the shape of y to (n_samples, ), for example using ravel().\n",
      "  return f(**kwargs)\n",
      "/Users/mdjavedulferdous/opt/anaconda3/lib/python3.8/site-packages/sklearn/utils/validation.py:72: DataConversionWarning: A column-vector y was passed when a 1d array was expected. Please change the shape of y to (n_samples, ), for example using ravel().\n",
      "  return f(**kwargs)\n",
      "/Users/mdjavedulferdous/opt/anaconda3/lib/python3.8/site-packages/sklearn/utils/validation.py:72: DataConversionWarning: A column-vector y was passed when a 1d array was expected. Please change the shape of y to (n_samples, ), for example using ravel().\n",
      "  return f(**kwargs)\n",
      "/Users/mdjavedulferdous/opt/anaconda3/lib/python3.8/site-packages/sklearn/utils/validation.py:72: DataConversionWarning: A column-vector y was passed when a 1d array was expected. Please change the shape of y to (n_samples, ), for example using ravel().\n",
      "  return f(**kwargs)\n"
     ]
    },
    {
     "data": {
      "text/plain": [
       "'\\nfig = PLT.figure()\\nax2 = fig.add_subplot(211)\\nax2.plot(dtnested_score)\\nPLT.show()\\n'"
      ]
     },
     "execution_count": 12,
     "metadata": {},
     "output_type": "execute_result"
    }
   ],
   "source": [
    "'''\n",
    "Parameters:\n",
    "\n",
    "estimator: estimator object implementing ‘fit’\n",
    "\n",
    "X: Xarray-like of shape (n_samples, n_features). The data to fit. Can be for example a list, or an array.\n",
    "\n",
    "y: yarray-like of shape (n_samples,) or (n_samples, n_outputs), default=None. The target variable to try to predict in the case of supervised learning.\n",
    "\n",
    "'''\n",
    "\n",
    "cv = KFold(n_splits=3, random_state=1, shuffle=True)\n",
    "target_names = ['Class 0', 'Class 1']\n",
    "\n",
    "model = LogisticRegression()\n",
    "model2 = svm.SVC(kernel='rbf')\n",
    "\n",
    "def classification_report_with_accuracy_score(y_true, y_pred):\n",
    "\n",
    "    print(\"--------------------------------------------------------\")\n",
    "    print(metrics.classification_report(y_true, y_pred, digits=2, target_names=target_names))\n",
    "    #print(confusion_matrix(y_true, y_pred))\n",
    "    tp, fn, fp, tn = confusion_matrix(y_true, y_pred).reshape(-1)\n",
    "    print('Outcome values : \\ntp, fn, fp, tn\\n', tp, fn, fp, tn)\n",
    "    return accuracy_score(y_true, y_pred)\n",
    "\n",
    "print(\"========================================================\")\n",
    "print(\"LogisticRegression\")\n",
    "print(\"========================================================\")\n",
    "lgnested_score = cross_val_score(model, X=x_2, y=y_2, cv=cv, \\\n",
    "               scoring=make_scorer(classification_report_with_accuracy_score))\n",
    "lgavg_score = \"{:.3f}\".format(np.mean(lgnested_score)*100)\n",
    "print(\"Average accuracy: \", lgavg_score)\n",
    "\n",
    "print(\"========================================================\")\n",
    "print(\"SVM with RBF kernel\")\n",
    "print(\"========================================================\")\n",
    "'''\n",
    "fig = PLT.figure()\n",
    "ax1 = fig.add_subplot(211)\n",
    "ax1.plot(lgnested_score)\n",
    "PLT.show()\n",
    "'''\n",
    "dtnested_score = cross_val_score(model2, X=x_2, y=y_2, cv=cv, \\\n",
    "               scoring=make_scorer(classification_report_with_accuracy_score))\n",
    "dtavg_score = \"{:.3f}\".format(np.mean(dtnested_score)*100)\n",
    "print(\"Average accuracy: \", dtavg_score)\n",
    "print(\"========================================================\")\n",
    "'''\n",
    "fig = PLT.figure()\n",
    "ax2 = fig.add_subplot(211)\n",
    "ax2.plot(dtnested_score)\n",
    "PLT.show()\n",
    "'''"
   ]
  },
  {
   "cell_type": "code",
   "execution_count": 19,
   "metadata": {
    "scrolled": false
   },
   "outputs": [
    {
     "name": "stdout",
     "output_type": "stream",
     "text": [
      "================================================================\n",
      "--------------------------------------------------------\n",
      "              precision    recall  f1-score   support\n",
      "\n",
      "     Class 0       0.83      1.00      0.91        59\n",
      "     Class 1       1.00      0.77      0.87        53\n",
      "\n",
      "    accuracy                           0.89       112\n",
      "   macro avg       0.92      0.89      0.89       112\n",
      "weighted avg       0.91      0.89      0.89       112\n",
      "\n",
      "Outcome values : \n",
      "tp, fn, fp, tn\n",
      " 59 0 12 41\n",
      "--------------------------------------------------------\n",
      "              precision    recall  f1-score   support\n",
      "\n",
      "     Class 0       0.77      1.00      0.87        47\n",
      "     Class 1       1.00      0.78      0.88        64\n",
      "\n",
      "    accuracy                           0.87       111\n",
      "   macro avg       0.89      0.89      0.87       111\n",
      "weighted avg       0.90      0.87      0.87       111\n",
      "\n",
      "Outcome values : \n",
      "tp, fn, fp, tn\n",
      " 47 0 14 50\n",
      "--------------------------------------------------------\n",
      "              precision    recall  f1-score   support\n",
      "\n",
      "     Class 0       0.93      1.00      0.96        62\n",
      "     Class 1       1.00      0.90      0.95        49\n",
      "\n",
      "    accuracy                           0.95       111\n",
      "   macro avg       0.96      0.95      0.95       111\n",
      "weighted avg       0.96      0.95      0.95       111\n",
      "\n",
      "Outcome values : \n",
      "tp, fn, fp, tn\n",
      " 62 0 5 44\n",
      "LogisticRegression is 86.904762\n",
      "================================================================\n",
      "Recall: 0.7441860465116279\n",
      "Precision: 1.0\n"
     ]
    },
    {
     "name": "stderr",
     "output_type": "stream",
     "text": [
      "/Users/mdjavedulferdous/opt/anaconda3/lib/python3.8/site-packages/sklearn/model_selection/_split.py:293: FutureWarning: Setting a random_state has no effect since shuffle is False. This will raise an error in 0.24. You should leave random_state to its default (None), or set shuffle=True.\n",
      "  warnings.warn(\n",
      "/Users/mdjavedulferdous/opt/anaconda3/lib/python3.8/site-packages/sklearn/utils/validation.py:72: DataConversionWarning: A column-vector y was passed when a 1d array was expected. Please change the shape of y to (n_samples, ), for example using ravel().\n",
      "  return f(**kwargs)\n",
      "/Users/mdjavedulferdous/opt/anaconda3/lib/python3.8/site-packages/sklearn/utils/validation.py:72: DataConversionWarning: A column-vector y was passed when a 1d array was expected. Please change the shape of y to (n_samples, ), for example using ravel().\n",
      "  return f(**kwargs)\n",
      "/Users/mdjavedulferdous/opt/anaconda3/lib/python3.8/site-packages/sklearn/utils/validation.py:72: DataConversionWarning: A column-vector y was passed when a 1d array was expected. Please change the shape of y to (n_samples, ), for example using ravel().\n",
      "  return f(**kwargs)\n",
      "/Users/mdjavedulferdous/opt/anaconda3/lib/python3.8/site-packages/sklearn/utils/validation.py:72: DataConversionWarning: A column-vector y was passed when a 1d array was expected. Please change the shape of y to (n_samples, ), for example using ravel().\n",
      "  return f(**kwargs)\n"
     ]
    },
    {
     "data": {
      "image/png": "[encoded data removed]",
      "text/plain": [
       "<Figure size 432x288 with 1 Axes>"
      ]
     },
     "metadata": {
      "needs_background": "light"
     },
     "output_type": "display_data"
    }
   ],
   "source": [
    "X_train,X_validation, Y_train, Y_validation = model_selection.train_test_split(x_2,y_2,test_size=0.20)\n",
    "models = []\n",
    "models.append(('LogisticRegression', LogisticRegression()))\n",
    "#models.append(('KNN', KNeighborsClassifier()))\n",
    "#models.append(('SVM', svm.SVC(kernel='rbf')))\n",
    "results = []\n",
    "names = []\n",
    "print(\"================================================================\")\n",
    "for name, model in models:\n",
    "    kfold = KFold(n_splits=3, random_state=0)\n",
    "    clf = model.fit(X_train, Y_train)\n",
    "    cv_results = cross_val_score(model, X_train, Y_train, cv=kfold, scoring=make_scorer(classification_report_with_accuracy_score))\n",
    "    results.append(cv_results)\n",
    "    names.append(name)\n",
    "    #print(\"================================================================\")\n",
    "    #print(\"Average scores of the estimator for each run of the cross validation.\")\n",
    "    msg = \"Testing score for %s: is %f\" % (name, cv_results.mean()*100)\n",
    "    #print(msg)\n",
    "    #print(\"================================================================\")\n",
    "    #print(\"The set of labels predicted for a sample must exactly match the corresponding set of labels in y_true.\")\n",
    "    print(\"%s is %f\" % (name , accuracy_score(Y_validation, model.predict(X_validation))*100))\n",
    "    print(\"================================================================\")\n",
    "    prediction = clf.predict(X_validation)\n",
    "    print ('Recall:', recall_score(Y_validation, prediction))\n",
    "    print ('Precision:', precision_score(Y_validation, prediction) )  \n",
    "    fig = PLT.figure()\n",
    "    ax1 = fig.add_subplot(211)\n",
    "    ax1.plot(cv_results)\n",
    "    PLT.show()"
   ]
  },
  {
   "cell_type": "markdown",
   "metadata": {},
   "source": [
    "https://github.com/Msanjayds/Machine_Learning_Projects/blob/master/2.%20CrossValidation.ipynb\n",
    "    \n",
    "https://towardsdatascience.com/why-and-how-to-cross-validate-a-model-d6424b45261f\n",
    "    \n",
    "https://stackoverflow.com/questions/42263915/using-sklearn-cross-val-score-and-kfolds-to-fit-and-help-predict-model"
   ]
  },
  {
   "cell_type": "code",
   "execution_count": null,
   "metadata": {},
   "outputs": [],
   "source": []
  }
 ],
 "metadata": {
  "kernelspec": {
   "display_name": "Python 3",
   "language": "python",
   "name": "python3"
  },
  "language_info": {
   "codemirror_mode": {
    "name": "ipython",
    "version": 3
   },
   "file_extension": ".py",
   "mimetype": "text/x-python",
   "name": "python",
   "nbconvert_exporter": "python",
   "pygments_lexer": "ipython3",
   "version": "3.8.5"
  }
 },
 "nbformat": 4,
 "nbformat_minor": 4
}
