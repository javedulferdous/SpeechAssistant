{
 "cells": [
  {
   "cell_type": "code",
   "execution_count": 1,
   "metadata": {},
   "outputs": [
    {
     "name": "stdout",
     "output_type": "stream",
     "text": [
      "/Users/mdjavedulferdous\n"
     ]
    }
   ],
   "source": [
    "cd"
   ]
  },
  {
   "cell_type": "code",
   "execution_count": 2,
   "metadata": {},
   "outputs": [
    {
     "name": "stdout",
     "output_type": "stream",
     "text": [
      "/Users/mdjavedulferdous/Documents/Dataset/New Dataset\n"
     ]
    }
   ],
   "source": [
    "cd \"Documents/Dataset/New Dataset\""
   ]
  },
  {
   "cell_type": "code",
   "execution_count": 27,
   "metadata": {},
   "outputs": [],
   "source": [
    "import csv\n",
    "import numpy as np\n",
    "import pandas as pd\n",
    "from numpy import mean\n",
    "from numpy import std\n",
    "from sklearn import svm\n",
    "from sklearn import tree\n",
    "from sklearn.svm import SVC\n",
    "from sklearn import metrics\n",
    "from sklearn.neighbors import KNeighborsClassifier\n",
    "from sklearn.ensemble import RandomForestClassifier\n",
    "from sklearn.linear_model import LinearRegression, LogisticRegression\n",
    "from sklearn.model_selection import KFold,cross_val_predict\n",
    "from sklearn.metrics import precision_score,average_precision_score,confusion_matrix, recall_score, accuracy_score, classification_report, make_scorer\n",
    "from sklearn.datasets import make_classification\n",
    "from sklearn.model_selection import KFold\n",
    "from sklearn.model_selection import cross_val_score\n",
    "from sklearn.tree import DecisionTreeClassifier\n",
    "from sklearn.neural_network import MLPClassifier\n",
    "from sklearn import model_selection\n",
    "from sklearn.tree import DecisionTreeClassifier\n",
    "from sklearn.neighbors import KNeighborsClassifier\n",
    "from matplotlib import pyplot as PLT\n"
   ]
  },
  {
   "cell_type": "code",
   "execution_count": 17,
   "metadata": {},
   "outputs": [],
   "source": [
    "csv_df = pd.read_csv(\"final_2.csv\")"
   ]
  },
  {
   "cell_type": "code",
   "execution_count": 18,
   "metadata": {},
   "outputs": [
    {
     "name": "stdout",
     "output_type": "stream",
     "text": [
      "<class 'pandas.core.frame.DataFrame'>\n",
      "RangeIndex: 803 entries, 0 to 802\n",
      "Data columns (total 7 columns):\n",
      " #   Column                         Non-Null Count  Dtype \n",
      "---  ------                         --------------  ----- \n",
      " 0   search_innertext               803 non-null    int64 \n",
      " 1   search_attribute               803 non-null    int64 \n",
      " 2   Number_of_search_word          803 non-null    int64 \n",
      " 3   search_button_attribute_value  803 non-null    int64 \n",
      " 4   is_button                      803 non-null    int64 \n",
      " 5   sClass                         803 non-null    int64 \n",
      " 6   URL name                       803 non-null    object\n",
      "dtypes: int64(6), object(1)\n",
      "memory usage: 44.0+ KB\n"
     ]
    }
   ],
   "source": [
    "csv_df.info()"
   ]
  },
  {
   "cell_type": "code",
   "execution_count": 19,
   "metadata": {},
   "outputs": [],
   "source": [
    "X = csv_df[['search_innertext','search_attribute','Number_of_search_word','search_button_attribute_value','is_button']]\n",
    "y = csv_df[['sClass']]\n"
   ]
  },
  {
   "cell_type": "code",
   "execution_count": 20,
   "metadata": {},
   "outputs": [],
   "source": [
    "filtered_one = csv_df[csv_df['sClass'] == 1] \n",
    "filtered_zero = csv_df[csv_df['sClass'] == 0] "
   ]
  },
  {
   "cell_type": "code",
   "execution_count": 21,
   "metadata": {},
   "outputs": [
    {
     "name": "stdout",
     "output_type": "stream",
     "text": [
      "search_innertext                 594\n",
      "search_attribute                 594\n",
      "Number_of_search_word            594\n",
      "search_button_attribute_value    594\n",
      "is_button                        594\n",
      "sClass                           594\n",
      "URL name                         594\n",
      "dtype: int64\n",
      "search_innertext                 209\n",
      "search_attribute                 209\n",
      "Number_of_search_word            209\n",
      "search_button_attribute_value    209\n",
      "is_button                        209\n",
      "sClass                           209\n",
      "URL name                         209\n",
      "dtype: int64\n"
     ]
    }
   ],
   "source": [
    "print(filtered_zero.count())\n",
    "print(filtered_one.count())\n"
   ]
  },
  {
   "cell_type": "code",
   "execution_count": 22,
   "metadata": {},
   "outputs": [],
   "source": [
    "f_o = filtered_zero.sample(n=209,replace=False)\n",
    "y1 = pd.concat([filtered_one, f_o], axis=0)\n",
    "x_2 = y1[['search_innertext','search_attribute','Number_of_search_word','search_button_attribute_value','is_button']]\n",
    "y_2 = y1[[\"sClass\"]]"
   ]
  },
  {
   "cell_type": "code",
   "execution_count": 23,
   "metadata": {},
   "outputs": [],
   "source": [
    "pd.concat([f_o[[\"URL name\"]], f_o[[\"sClass\"]]], axis=1).to_csv('filtered_zero.csv')\n",
    "pd.concat([filtered_one[[\"URL name\"]], filtered_one[[\"sClass\"]]], axis=1).to_csv('filtered_one.csv')"
   ]
  },
  {
   "cell_type": "code",
   "execution_count": 24,
   "metadata": {},
   "outputs": [
    {
     "name": "stdout",
     "output_type": "stream",
     "text": [
      "search_innertext                 418\n",
      "search_attribute                 418\n",
      "Number_of_search_word            418\n",
      "search_button_attribute_value    418\n",
      "is_button                        418\n",
      "dtype: int64\n",
      "sClass    418\n",
      "dtype: int64\n"
     ]
    }
   ],
   "source": [
    "print(x_2.count())\n",
    "print(y_2.count())"
   ]
  },
  {
   "cell_type": "code",
   "execution_count": null,
   "metadata": {},
   "outputs": [],
   "source": [
    "def count_row(objt):\n",
    "    file = open(objt)\n",
    "    numline = len(file.readlines())-1\n",
    "    print (numline)\n",
    "count_row(\"filtered_one.csv\")\n",
    "count_row(\"filtered_zero.csv\")\n"
   ]
  },
  {
   "cell_type": "markdown",
   "metadata": {},
   "source": [
    "#### Prediction"
   ]
  },
  {
   "cell_type": "code",
   "execution_count": 25,
   "metadata": {
    "scrolled": false
   },
   "outputs": [
    {
     "name": "stdout",
     "output_type": "stream",
     "text": [
      "========================================================\n",
      "LogisticRegression\n",
      "========================================================\n",
      "              precision    recall  f1-score   support\n",
      "\n",
      "           0       0.93      0.92      0.92        59\n",
      "           1       0.89      0.91      0.90        46\n",
      "\n",
      "    accuracy                           0.91       105\n",
      "   macro avg       0.91      0.91      0.91       105\n",
      "weighted avg       0.91      0.91      0.91       105\n",
      "\n",
      "              precision    recall  f1-score   support\n",
      "\n",
      "           0       0.88      0.98      0.93        47\n",
      "           1       0.98      0.90      0.94        58\n",
      "\n",
      "    accuracy                           0.93       105\n",
      "   macro avg       0.93      0.94      0.93       105\n",
      "weighted avg       0.94      0.93      0.93       105\n",
      "\n",
      "              precision    recall  f1-score   support\n",
      "\n",
      "           0       0.87      0.94      0.90        50\n",
      "           1       0.94      0.87      0.90        54\n",
      "\n",
      "    accuracy                           0.90       104\n",
      "   macro avg       0.91      0.91      0.90       104\n",
      "weighted avg       0.91      0.90      0.90       104\n",
      "\n",
      "              precision    recall  f1-score   support\n",
      "\n",
      "           0       0.93      1.00      0.96        53\n",
      "           1       1.00      0.92      0.96        51\n",
      "\n",
      "    accuracy                           0.96       104\n",
      "   macro avg       0.96      0.96      0.96       104\n",
      "weighted avg       0.96      0.96      0.96       104\n",
      "\n",
      "Average accuracy:  0.928\n",
      "========================================================\n",
      "DecisionTreeClassifier\n",
      "========================================================\n",
      "              precision    recall  f1-score   support\n",
      "\n",
      "           0       0.93      0.95      0.94        59\n",
      "           1       0.93      0.91      0.92        46\n",
      "\n",
      "    accuracy                           0.93       105\n",
      "   macro avg       0.93      0.93      0.93       105\n",
      "weighted avg       0.93      0.93      0.93       105\n",
      "\n",
      "              precision    recall  f1-score   support\n",
      "\n",
      "           0       0.88      0.98      0.93        47\n",
      "           1       0.98      0.90      0.94        58\n",
      "\n",
      "    accuracy                           0.93       105\n",
      "   macro avg       0.93      0.94      0.93       105\n",
      "weighted avg       0.94      0.93      0.93       105\n",
      "\n",
      "              precision    recall  f1-score   support\n",
      "\n",
      "           0       0.88      0.88      0.88        50\n",
      "           1       0.89      0.89      0.89        54\n",
      "\n",
      "    accuracy                           0.88       104\n",
      "   macro avg       0.88      0.88      0.88       104\n",
      "weighted avg       0.88      0.88      0.88       104\n",
      "\n",
      "              precision    recall  f1-score   support\n",
      "\n",
      "           0       0.93      1.00      0.96        53\n",
      "           1       1.00      0.92      0.96        51\n",
      "\n",
      "    accuracy                           0.96       104\n",
      "   macro avg       0.96      0.96      0.96       104\n",
      "weighted avg       0.96      0.96      0.96       104\n",
      "\n",
      "Average accuracy:  0.928\n"
     ]
    },
    {
     "name": "stderr",
     "output_type": "stream",
     "text": [
      "/Users/mdjavedulferdous/opt/anaconda3/lib/python3.8/site-packages/sklearn/utils/validation.py:72: DataConversionWarning: A column-vector y was passed when a 1d array was expected. Please change the shape of y to (n_samples, ), for example using ravel().\n",
      "  return f(**kwargs)\n",
      "/Users/mdjavedulferdous/opt/anaconda3/lib/python3.8/site-packages/sklearn/utils/validation.py:72: DataConversionWarning: A column-vector y was passed when a 1d array was expected. Please change the shape of y to (n_samples, ), for example using ravel().\n",
      "  return f(**kwargs)\n",
      "/Users/mdjavedulferdous/opt/anaconda3/lib/python3.8/site-packages/sklearn/utils/validation.py:72: DataConversionWarning: A column-vector y was passed when a 1d array was expected. Please change the shape of y to (n_samples, ), for example using ravel().\n",
      "  return f(**kwargs)\n",
      "/Users/mdjavedulferdous/opt/anaconda3/lib/python3.8/site-packages/sklearn/utils/validation.py:72: DataConversionWarning: A column-vector y was passed when a 1d array was expected. Please change the shape of y to (n_samples, ), for example using ravel().\n",
      "  return f(**kwargs)\n"
     ]
    },
    {
     "data": {
      "text/plain": [
       "'\\nprint(\"========================================================\")\\nprint(\"RandomForestClassifier\")\\nprint(\"========================================================\")\\nrfnested_score = cross_val_score(model3, X=x_2, y=y_2, cv=cv,                scoring=make_scorer(classification_report_with_accuracy_score))\\nrfavg_score = \"{:.3f}\".format(np.mean(lgnested_score))\\nprint(rfavg_score)        \\nprint(\"========================================================\")\\n'"
      ]
     },
     "execution_count": 25,
     "metadata": {},
     "output_type": "execute_result"
    }
   ],
   "source": [
    "cv = KFold(n_splits=4, random_state=1, shuffle=True)\n",
    "\n",
    "model = LogisticRegression()\n",
    "model2 = DecisionTreeClassifier()\n",
    "model3 = RandomForestClassifier()\n",
    "\n",
    "def classification_report_with_accuracy_score(y_true, y_pred):\n",
    "\n",
    "    #print(y_true)\n",
    "    #print(y_pred)\n",
    "    #y_true = [1,1,1,0,0]\n",
    "    #y_pred = [1,1,1,0,0]\n",
    "    print (classification_report(y_true, y_pred)) # print classification report\n",
    "    '''\n",
    "    with open('y_true.csv', 'w') as csvfile:\n",
    "        writer=csv.writer(csvfile, delimiter=',')\n",
    "        writer.writerows(map(lambda x: [x], y_true))\n",
    "    '''\n",
    "    return accuracy_score(y_true, y_pred) # return accuracy score\n",
    "'''\n",
    "lgnested_score = cross_val_score(model, X=x_2, y=y_2, cv=cv, \\\n",
    "               scoring=make_scorer(classification_report_with_accuracy_score))\n",
    "avg_score = \"{:.3f}\".format(np.mean(lgnested_score))\n",
    "print(avg_score)\n",
    "\n",
    "\n",
    "\n",
    "pred = cross_val_predict(model, x_2, y_2, cv=cv)\n",
    "fold_pred = [pred[j] for i, j in cv.split(X,y)]\n",
    "#print(fold_pred)\n",
    "'''\n",
    "print(\"========================================================\")\n",
    "print(\"LogisticRegression\")\n",
    "print(\"========================================================\")\n",
    "lgnested_score = cross_val_score(model, X=x_2, y=y_2, cv=cv, \\\n",
    "               scoring=make_scorer(classification_report_with_accuracy_score))\n",
    "lgavg_score = \"{:.3f}\".format(np.mean(lgnested_score))\n",
    "print(\"Average accuracy: \", lgavg_score)\n",
    "print(\"========================================================\")\n",
    "print(\"DecisionTreeClassifier\")\n",
    "print(\"========================================================\")\n",
    "dtnested_score = cross_val_score(model2, X=x_2, y=y_2, cv=cv, \\\n",
    "               scoring=make_scorer(classification_report_with_accuracy_score))\n",
    "dtavg_score = \"{:.3f}\".format(np.mean(dtnested_score))\n",
    "print(\"Average accuracy: \", dtavg_score)\n",
    "'''\n",
    "print(\"========================================================\")\n",
    "print(\"RandomForestClassifier\")\n",
    "print(\"========================================================\")\n",
    "rfnested_score = cross_val_score(model3, X=x_2, y=y_2, cv=cv, \\\n",
    "               scoring=make_scorer(classification_report_with_accuracy_score))\n",
    "rfavg_score = \"{:.3f}\".format(np.mean(lgnested_score))\n",
    "print(rfavg_score)        \n",
    "print(\"========================================================\")\n",
    "'''"
   ]
  },
  {
   "cell_type": "code",
   "execution_count": null,
   "metadata": {},
   "outputs": [],
   "source": [
    "# Variables for average classification report\n",
    "originalclass = []\n",
    "predictedclass = []\n",
    "\n",
    "#Make our customer score\n",
    "def classification_report_with_accuracy_score(y_true, y_pred):\n",
    "    originalclass.extend(y_true)\n",
    "    predictedclass.extend(y_pred)\n",
    "    return accuracy_score(y_true, y_pred) # return accuracy score\n",
    "\n",
    "cv = KFold(n_splits=5, random_state=1, shuffle=True)\n",
    "\n",
    "# Nested CV with parameter optimization\n",
    "nested_score = cross_val_score(model, X=x_2, y=y_2, cv=cv, scoring=make_scorer(classification_report_with_accuracy_score))\n",
    "\n",
    "# Average values in classification report for all folds in a K-fold Cross-validation  \n",
    "#print(classification_report(originalclass, predictedclass)) \n",
    "originalclassDF = pd.DataFrame(originalclass)\n",
    "predictedclassDF = pd.DataFrame(predictedclass)\n",
    "'''\n",
    "with open('y1.csv', 'w') as csvfile:\n",
    "        writer=csv.writer(csvfile, delimiter=',')\n",
    "        writer.writerows(zip(originalclass,predictedclass))\n",
    "'''\n"
   ]
  },
  {
   "cell_type": "code",
   "execution_count": null,
   "metadata": {},
   "outputs": [],
   "source": [
    "originalclassDF, predictedclassDF"
   ]
  },
  {
   "cell_type": "code",
   "execution_count": null,
   "metadata": {},
   "outputs": [],
   "source": [
    "y1[[\"URL name\"]]"
   ]
  },
  {
   "cell_type": "code",
   "execution_count": null,
   "metadata": {},
   "outputs": [],
   "source": [
    "a = pd.concat([originalclassDF,predictedclassDF,y1[[\"URL name\"]]],join=\"inner\", axis=1).to_csv(\"z1.csv\")\n",
    "a "
   ]
  },
  {
   "cell_type": "code",
   "execution_count": null,
   "metadata": {},
   "outputs": [],
   "source": [
    "y1[[\"URL name\"]].to_csv('z2.csv')\n"
   ]
  },
  {
   "cell_type": "code",
   "execution_count": null,
   "metadata": {},
   "outputs": [],
   "source": [
    "y1[[\"URL name\"]].count()"
   ]
  },
  {
   "cell_type": "code",
   "execution_count": null,
   "metadata": {},
   "outputs": [],
   "source": [
    "originalclassDF.count()"
   ]
  },
  {
   "cell_type": "code",
   "execution_count": null,
   "metadata": {},
   "outputs": [],
   "source": [
    "y1[[\"URL name\"]]"
   ]
  },
  {
   "cell_type": "code",
   "execution_count": null,
   "metadata": {},
   "outputs": [],
   "source": [
    "file_name = \"your_file_name.csv\"\n",
    "\n",
    "with open(file_name,'w') as f:\n",
    "    for dt,int_norm,CSs in zip(y1[[\"URL name\"]], originalclass,predictedclass):\n",
    "        f.write('{0},{1},{2}\\n'.format(dt,int_norm,CSs))"
   ]
  },
  {
   "cell_type": "code",
   "execution_count": 30,
   "metadata": {},
   "outputs": [
    {
     "name": "stdout",
     "output_type": "stream",
     "text": [
      "================================================================\n",
      "              precision    recall  f1-score   support\n",
      "\n",
      "           0       0.95      0.97      0.96        60\n",
      "           1       0.96      0.94      0.95        52\n",
      "\n",
      "    accuracy                           0.96       112\n",
      "   macro avg       0.96      0.95      0.96       112\n",
      "weighted avg       0.96      0.96      0.96       112\n",
      "\n",
      "              precision    recall  f1-score   support\n",
      "\n",
      "           0       0.86      0.94      0.90        52\n",
      "           1       0.94      0.86      0.90        59\n",
      "\n",
      "    accuracy                           0.90       111\n",
      "   macro avg       0.90      0.90      0.90       111\n",
      "weighted avg       0.90      0.90      0.90       111\n",
      "\n",
      "              precision    recall  f1-score   support\n",
      "\n",
      "           0       0.93      0.96      0.95        57\n",
      "           1       0.96      0.93      0.94        54\n",
      "\n",
      "    accuracy                           0.95       111\n",
      "   macro avg       0.95      0.95      0.95       111\n",
      "weighted avg       0.95      0.95      0.95       111\n",
      "\n",
      "================================================================\n",
      "Accuracy for SVM is 92.857143\n",
      "================================================================\n",
      "Recall: 0.8636363636363636\n",
      "Precision: 1.0\n"
     ]
    },
    {
     "name": "stderr",
     "output_type": "stream",
     "text": [
      "/Users/mdjavedulferdous/opt/anaconda3/lib/python3.8/site-packages/sklearn/model_selection/_split.py:293: FutureWarning: Setting a random_state has no effect since shuffle is False. This will raise an error in 0.24. You should leave random_state to its default (None), or set shuffle=True.\n",
      "  warnings.warn(\n",
      "/Users/mdjavedulferdous/opt/anaconda3/lib/python3.8/site-packages/sklearn/utils/validation.py:72: DataConversionWarning: A column-vector y was passed when a 1d array was expected. Please change the shape of y to (n_samples, ), for example using ravel().\n",
      "  return f(**kwargs)\n",
      "/Users/mdjavedulferdous/opt/anaconda3/lib/python3.8/site-packages/sklearn/utils/validation.py:72: DataConversionWarning: A column-vector y was passed when a 1d array was expected. Please change the shape of y to (n_samples, ), for example using ravel().\n",
      "  return f(**kwargs)\n",
      "/Users/mdjavedulferdous/opt/anaconda3/lib/python3.8/site-packages/sklearn/utils/validation.py:72: DataConversionWarning: A column-vector y was passed when a 1d array was expected. Please change the shape of y to (n_samples, ), for example using ravel().\n",
      "  return f(**kwargs)\n",
      "/Users/mdjavedulferdous/opt/anaconda3/lib/python3.8/site-packages/sklearn/utils/validation.py:72: DataConversionWarning: A column-vector y was passed when a 1d array was expected. Please change the shape of y to (n_samples, ), for example using ravel().\n",
      "  return f(**kwargs)\n"
     ]
    },
    {
     "data": {
      "image/png": "[encoded data removed]",
      "text/plain": [
       "<Figure size 432x288 with 1 Axes>"
      ]
     },
     "metadata": {
      "needs_background": "light"
     },
     "output_type": "display_data"
    }
   ],
   "source": [
    "X_train,X_validation, Y_train, Y_validation = model_selection.train_test_split(x_2,y_2,test_size=0.20)\n",
    "models = []\n",
    "#models.append(('LogisticRegression', LogisticRegression()))\n",
    "#models.append(('KNN', KNeighborsClassifier()))\n",
    "models.append(('SVM', svm.SVC(kernel='rbf')))\n",
    "results = []\n",
    "names = []\n",
    "print(\"================================================================\")\n",
    "for name, model in models:\n",
    "    kfold = KFold(n_splits=3, random_state=0)\n",
    "    clf = model.fit(X_train, Y_train)\n",
    "    cv_results = cross_val_score(model, X_train, Y_train, cv=kfold, scoring=make_scorer(classification_report_with_accuracy_score))\n",
    "    results.append(cv_results)\n",
    "    names.append(name)\n",
    "    #print(\"================================================================\")\n",
    "    #print(\"Average scores of the estimator for each run of the cross validation.\")\n",
    "    #msg = \"Testing score for %s: is %f\" % (name, cv_results.mean()*100)\n",
    "    #print(msg)\n",
    "    print(\"================================================================\")\n",
    "    #print(\"The set of labels predicted for a sample must exactly match the corresponding set of labels in y_true.\")\n",
    "    print(\"Accuracy for %s is %f\" % (name , accuracy_score(Y_validation, model.predict(X_validation))*100))\n",
    "    print(\"================================================================\")\n",
    "    prediction = clf.predict(X_validation)\n",
    "    print ('Recall:', recall_score(Y_validation, prediction))\n",
    "    print ('Precision:', precision_score(Y_validation, prediction) )  \n",
    "    fig = PLT.figure()\n",
    "    ax1 = fig.add_subplot(211)\n",
    "    ax1.plot(cv_results)\n",
    "    PLT.show()"
   ]
  },
  {
   "cell_type": "code",
   "execution_count": null,
   "metadata": {},
   "outputs": [],
   "source": []
  }
 ],
 "metadata": {
  "kernelspec": {
   "display_name": "Python 3",
   "language": "python",
   "name": "python3"
  },
  "language_info": {
   "codemirror_mode": {
    "name": "ipython",
    "version": 3
   },
   "file_extension": ".py",
   "mimetype": "text/x-python",
   "name": "python",
   "nbconvert_exporter": "python",
   "pygments_lexer": "ipython3",
   "version": "3.8.5"
  }
 },
 "nbformat": 4,
 "nbformat_minor": 4
}
